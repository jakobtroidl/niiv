{
 "cells": [
  {
   "cell_type": "code",
   "execution_count": null,
   "metadata": {},
   "outputs": [],
   "source": [
    "import os\n",
    "def jpeg_compression(scale, src, dst, config):\n",
    "\n",
    "    dim = config[\"n_features_per_level\"]\n",
    "    n_levels = config[\"n_levels\"]\n",
    "\n",
    "    for d in range(dim):\n",
    "        for i in range(n_levels):\n",
    "            src_path = os.path.join(src, f\"dim{d}\", f\"{str(i).zfill(2)}.png\")\n",
    "            save_path = os.path.join(dst, f\"dim{d}\", str(scale).zfill(3))\n",
    "            os.makedirs(save_path, exist_ok=True)\n",
    "            save_path = os.path.join(save_path,  f\"{str(i).zfill(2)}.jpg\")\n",
    "\n",
    "            if os.path.isfile(save_path):\n",
    "                !rm $save_path\n",
    "            !ffmpeg -hide_banner -i $src_path -qscale:v $scale $save_path\n",
    "\n",
    "\n",
    "# keyint=7:min-keyint=7:no-scenecut:me=full:subme=7:bframes=0\n",
    "def hevc_compression(crf, framerate, src, dst, config):\n",
    "\n",
    "    dim = config[\"n_features_per_level\"]\n",
    "    \n",
    "    for d in range(dim):\n",
    "        src_path = os.path.join(src, f\"dim{d}\", \"%05d.png\")\n",
    "        os.makedirs(os.path.join(dst, f\"dim{d}\"), exist_ok=True)\n",
    "        save_path = os.path.join(dst, f\"dim{d}\", f\"{crf}_{framerate}.mp4\")\n",
    "\n",
    "        if os.path.isfile(save_path):\n",
    "            !rm $save_path\n",
    "\n",
    "        !ffmpeg -framerate $framerate -i $src_path -c:v hevc -preset slow -x265-params bframes=0 -crf $crf $save_path\n",
    "\n"
   ]
  },
  {
   "cell_type": "markdown",
   "metadata": {},
   "source": [
    "Compress Learnable Keyframes and Sparse Grid"
   ]
  },
  {
   "cell_type": "code",
   "execution_count": null,
   "metadata": {},
   "outputs": [],
   "source": [
    "import json\n",
    "datasets = [\"jockey\"]\n",
    "\n",
    "for data in datasets:\n",
    "    experiment_name = f\"{data}\"\n",
    "    config_path = f\"./logs_nvp/{experiment_name}/config.json\"\n",
    "    base_path = f\"./logs_nvp/{experiment_name}/compression\"\n",
    "\n",
    "\n",
    "    with open(config_path, 'r') as f:\n",
    "        config = json.load(f)\n",
    "\n",
    "    config = config[\"nvp\"]\n",
    "    keyframe_path = os.path.join(base_path, \"src\", \"keyframes\", \"xy\")\n",
    "    save_path = os.path.join(base_path, \"dst\", \"keyframes\", \"xy\")\n",
    "    jpeg_compression(scale=2, src=keyframe_path, dst=save_path, config=config[\"2d_encoding_xy\"])\n",
    "\n",
    "    keyframe_path = os.path.join(base_path, \"src\", \"keyframes\", \"xt\")\n",
    "    save_path = os.path.join(base_path, \"dst\", \"keyframes\", \"xt\")\n",
    "    jpeg_compression(scale=3, src=keyframe_path, dst=save_path, config=config[\"2d_encoding_xt\"])\n",
    "\n",
    "    keyframe_path = os.path.join(base_path, \"src\", \"keyframes\", \"yt\")\n",
    "    save_path = os.path.join(base_path, \"dst\", \"keyframes\", \"yt\")\n",
    "    jpeg_compression(scale=3, src=keyframe_path, dst=save_path, config=config[\"2d_encoding_yt\"])\n",
    "\n",
    "    sparsegrid_path = os.path.join(base_path, \"src\", \"sparsegrid\")\n",
    "    save_path = os.path.join(base_path, \"dst\", \"sparsegrid\")\n",
    "    hevc_compression(crf=21, framerate=25, src=sparsegrid_path, dst=save_path, config=config[\"3d_encoding\"])\n",
    "    "
   ]
  }
 ],
 "metadata": {
  "interpreter": {
   "hash": "53f0588b3c374ffb8d6102e58c8bd6fde8c17a0cc886162e9d708a7e3ec6b0c9"
  },
  "kernelspec": {
   "display_name": "Python 3.7.13 ('inr')",
   "language": "python",
   "name": "python3"
  },
  "language_info": {
   "codemirror_mode": {
    "name": "ipython",
    "version": 3
   },
   "file_extension": ".py",
   "mimetype": "text/x-python",
   "name": "python",
   "nbconvert_exporter": "python",
   "pygments_lexer": "ipython3",
   "version": "3.8.8"
  },
  "orig_nbformat": 4
 },
 "nbformat": 4,
 "nbformat_minor": 2
}
