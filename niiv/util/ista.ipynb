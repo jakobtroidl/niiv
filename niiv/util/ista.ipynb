{
 "cells": [
  {
   "cell_type": "code",
   "execution_count": 2,
   "metadata": {},
   "outputs": [
    {
     "name": "stdout",
     "output_type": "stream",
     "text": [
      "(663, 2048, 2048)\n",
      "float32\n",
      "0.0\n",
      "1.0\n",
      "[143738028 298281703 429206794 455701112 392036276 303565408 230144941\n",
      " 174094705 130469950  94658088  61631109  33830320  16396584   7948335\n",
      "   4249427   2443950   1359753    663994    271557    131518]\n",
      "[0.   0.05 0.1  0.15 0.2  0.25 0.3  0.35 0.4  0.45 0.5  0.55 0.6  0.65\n",
      " 0.7  0.75 0.8  0.85 0.9  0.95 1.  ]\n"
     ]
    }
   ],
   "source": [
    "import numpy as np\n",
    "\n",
    "data = np.load(\"/home/jakobtroidl/Desktop/neural-volumes/data/ista/20230716_ExPID114_17_50_53_clahe_normalized_float32_0_1.npy\")\n",
    "print(data.shape)\n",
    "print(data.dtype)\n",
    "print(data.min())\n",
    "print(data.max())\n",
    "\n",
    "hist, bins = np.histogram(data, bins=20) \n",
    "\n",
    "print (hist) \n",
    "print (bins)\n",
    "\n",
    "\n",
    "\n",
    "# # convery to float 32\n",
    "# data = data.astype(np.float32)\n",
    "# data = data / data.max()\n",
    "\n",
    "\n",
    "# print(data.shape)\n",
    "# print(data.dtype)\n",
    "# print(data.min())\n",
    "# print(data.max())\n",
    "\n",
    "# np.save(\"/home/jakobtroidl/Desktop/neural-volumes/data/ista/20230716_ExPID114_17_50_53_clahe_normalized_float32_0_1.npy\", data)\n",
    "\n",
    "\n"
   ]
  },
  {
   "cell_type": "code",
   "execution_count": null,
   "metadata": {},
   "outputs": [],
   "source": []
  },
  {
   "cell_type": "code",
   "execution_count": null,
   "metadata": {},
   "outputs": [],
   "source": []
  }
 ],
 "metadata": {
  "kernelspec": {
   "display_name": "nvp-v2",
   "language": "python",
   "name": "python3"
  },
  "language_info": {
   "codemirror_mode": {
    "name": "ipython",
    "version": 3
   },
   "file_extension": ".py",
   "mimetype": "text/x-python",
   "name": "python",
   "nbconvert_exporter": "python",
   "pygments_lexer": "ipython3",
   "version": "3.9.18"
  }
 },
 "nbformat": 4,
 "nbformat_minor": 2
}
