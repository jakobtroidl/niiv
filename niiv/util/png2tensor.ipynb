{
 "cells": [
  {
   "cell_type": "code",
   "execution_count": 6,
   "metadata": {},
   "outputs": [],
   "source": [
    "import numpy as np\n",
    "import os\n",
    "from PIL import Image\n",
    "import re"
   ]
  },
  {
   "cell_type": "code",
   "execution_count": 7,
   "metadata": {},
   "outputs": [],
   "source": [
    "def natural_sort_key(s):\n",
    "    return [int(text) if text.isdigit() else text.lower() for text in re.split('([0-9]+)', s)]\n"
   ]
  },
  {
   "cell_type": "code",
   "execution_count": 8,
   "metadata": {},
   "outputs": [
    {
     "name": "stdout",
     "output_type": "stream",
     "text": [
      "['xz_0.png', 'xz_1.png', 'xz_2.png', 'xz_3.png', 'xz_4.png', 'xz_5.png', 'xz_6.png', 'xz_7.png', 'xz_8.png', 'xz_9.png', 'xz_10.png', 'xz_11.png', 'xz_12.png', 'xz_13.png', 'xz_14.png', 'xz_15.png', 'xz_16.png', 'xz_17.png', 'xz_18.png', 'xz_19.png', 'xz_20.png', 'xz_21.png', 'xz_22.png', 'xz_23.png', 'xz_24.png', 'xz_25.png', 'xz_26.png', 'xz_27.png', 'xz_28.png', 'xz_29.png', 'xz_30.png', 'xz_31.png', 'xz_32.png', 'xz_33.png', 'xz_34.png', 'xz_35.png', 'xz_36.png', 'xz_37.png', 'xz_38.png', 'xz_39.png', 'xz_40.png', 'xz_41.png', 'xz_42.png', 'xz_43.png', 'xz_44.png', 'xz_45.png', 'xz_46.png', 'xz_47.png', 'xz_48.png', 'xz_49.png', 'xz_50.png', 'xz_51.png', 'xz_52.png', 'xz_53.png', 'xz_54.png', 'xz_55.png', 'xz_56.png', 'xz_57.png', 'xz_58.png', 'xz_59.png', 'xz_60.png', 'xz_61.png', 'xz_62.png', 'xz_63.png', 'xz_64.png', 'xz_65.png', 'xz_66.png', 'xz_67.png', 'xz_68.png', 'xz_69.png', 'xz_70.png', 'xz_71.png', 'xz_72.png', 'xz_73.png', 'xz_74.png', 'xz_75.png', 'xz_76.png', 'xz_77.png', 'xz_78.png', 'xz_79.png', 'xz_80.png', 'xz_81.png', 'xz_82.png', 'xz_83.png', 'xz_84.png', 'xz_85.png', 'xz_86.png', 'xz_87.png', 'xz_88.png', 'xz_89.png', 'xz_90.png', 'xz_91.png', 'xz_92.png', 'xz_93.png', 'xz_94.png', 'xz_95.png', 'xz_96.png', 'xz_97.png', 'xz_98.png', 'xz_99.png', 'xz_100.png', 'xz_101.png', 'xz_102.png', 'xz_103.png', 'xz_104.png', 'xz_105.png', 'xz_106.png', 'xz_107.png', 'xz_108.png', 'xz_109.png', 'xz_110.png', 'xz_111.png', 'xz_112.png', 'xz_113.png', 'xz_114.png', 'xz_115.png', 'xz_116.png', 'xz_117.png', 'xz_118.png', 'xz_119.png', 'xz_120.png', 'xz_121.png', 'xz_122.png', 'xz_123.png', 'xz_124.png', 'xz_125.png', 'xz_126.png', 'xz_127.png', 'xz_128.png', 'xz_129.png']\n"
     ]
    }
   ],
   "source": [
    "# Specify the directory path\n",
    "directory_path = \"/home/jakobtroidl/Desktop/neural-volumes/logs/fafb-130/results_iteration_8/66034_21822_1779.npy/bilinear/\"\n",
    "# List all files in the directory\n",
    "file_list = os.listdir(directory_path)\n",
    "\n",
    "dir = os.path.dirname(os.path.dirname(directory_path))\n",
    "\n",
    "# Sort the list of files\n",
    "file_list = sorted(file_list, key=natural_sort_key)\n",
    "\n",
    "print(file_list)\n",
    "\n",
    "images = []\n",
    "\n",
    "# Print the list of files\n",
    "for file in file_list:\n",
    "    # Open the image using Pillow\n",
    "    image = Image.open(directory_path + file)\n",
    "    array = np.array(image)\n",
    "    images.append(array)\n",
    "\n",
    "# Convert the list of images to a 3D array\n",
    "images = np.array(images)\n"
   ]
  },
  {
   "cell_type": "code",
   "execution_count": 9,
   "metadata": {},
   "outputs": [
    {
     "name": "stdout",
     "output_type": "stream",
     "text": [
      "(130, 130, 130)\n",
      "float32\n"
     ]
    }
   ],
   "source": [
    "# convert to float\n",
    "images = images.astype(np.float32)\n",
    "# normalize to the range 0-1\n",
    "images /= 255.0\n",
    "\n",
    "print(images.shape)\n",
    "print(images.dtype)\n",
    "\n"
   ]
  },
  {
   "cell_type": "code",
   "execution_count": 10,
   "metadata": {},
   "outputs": [
    {
     "name": "stdout",
     "output_type": "stream",
     "text": [
      "/home/jakobtroidl/Desktop/neural-volumes/logs/fafb-130/results_iteration_8/66034_21822_1779.npy/bilinear.npy\n"
     ]
    }
   ],
   "source": [
    "path = os.path.join(dir, 'bilinear.npy')\n",
    "print(path)\n",
    "\n",
    "np.save(path, images)"
   ]
  }
 ],
 "metadata": {
  "kernelspec": {
   "display_name": "venv",
   "language": "python",
   "name": "python3"
  },
  "language_info": {
   "codemirror_mode": {
    "name": "ipython",
    "version": 3
   },
   "file_extension": ".py",
   "mimetype": "text/x-python",
   "name": "python",
   "nbconvert_exporter": "python",
   "pygments_lexer": "ipython3",
   "version": "3.9.18"
  }
 },
 "nbformat": 4,
 "nbformat_minor": 2
}
