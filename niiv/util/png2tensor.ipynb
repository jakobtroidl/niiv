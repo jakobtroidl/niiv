{
 "cells": [
  {
   "cell_type": "code",
   "execution_count": 6,
   "metadata": {},
   "outputs": [],
   "source": [
    "import numpy as np\n",
    "import os\n",
    "from PIL import Image\n",
    "import re"
   ]
  },
  {
   "cell_type": "code",
   "execution_count": 7,
   "metadata": {},
   "outputs": [],
   "source": [
    "def natural_sort_key(s):\n",
    "    return [int(text) if text.isdigit() else text.lower() for text in re.split('([0-9]+)', s)]\n"
   ]
  },
  {
   "cell_type": "code",
   "execution_count": 8,
   "metadata": {},
   "outputs": [
    {
     "name": "stdout",
     "output_type": "stream",
     "text": [
      "['xz_0_20_972349166870117.png', 'xz_1_20_992769241333008.png', 'xz_2_21_248464584350586.png', 'xz_3_21_313180923461914.png', 'xz_4_21_297292709350586.png', 'xz_5_21_383716583251953.png', 'xz_6_21_110872268676758.png', 'xz_7_21_05684471130371.png', 'xz_8_21_281734466552734.png', 'xz_9_21_137819290161133.png', 'xz_10_21_1392879486084.png', 'xz_11_21_083436965942383.png', 'xz_12_21_015682220458984.png', 'xz_13_21_2166805267334.png', 'xz_14_20_93269157409668.png', 'xz_15_20_859233856201172.png', 'xz_16_21_17803955078125.png', 'xz_17_21_217634201049805.png', 'xz_18_21_20244026184082.png', 'xz_19_21_16364288330078.png', 'xz_20_21_230432510375977.png', 'xz_21_21_47684669494629.png', 'xz_22_21_247568130493164.png', 'xz_23_21_440502166748047.png', 'xz_24_21_70833396911621.png', 'xz_25_21_585166931152344.png', 'xz_26_21_581697463989258.png', 'xz_27_21_55133056640625.png', 'xz_28_21_378232955932617.png', 'xz_29_21_459962844848633.png', 'xz_30_21_085294723510742.png', 'xz_31_20_909591674804688.png', 'xz_32_21_19222068786621.png', 'xz_33_21_203510284423828.png', 'xz_34_21_101987838745117.png', 'xz_35_21_24575424194336.png', 'xz_36_21_338294982910156.png', 'xz_37_21_31319808959961.png', 'xz_38_20_998830795288086.png', 'xz_39_20_96963119506836.png', 'xz_40_21_1276798248291.png', 'xz_41_20_875167846679688.png', 'xz_42_20_872432708740234.png', 'xz_43_20_745908737182617.png', 'xz_44_20_663124084472656.png', 'xz_45_20_714563369750977.png', 'xz_46_20_403167724609375.png', 'xz_47_20_39288902282715.png', 'xz_48_20_505619049072266.png', 'xz_49_20_618803024291992.png', 'xz_50_20_785926818847656.png', 'xz_51_20_83894920349121.png', 'xz_52_20_930051803588867.png', 'xz_53_20_881633758544922.png', 'xz_54_20_603975296020508.png', 'xz_55_20_619487762451172.png', 'xz_56_20_893224716186523.png', 'xz_57_20_876672744750977.png', 'xz_58_20_98401641845703.png', 'xz_59_21_14552116394043.png', 'xz_60_21_177059173583984.png', 'xz_61_21_257492065429688.png', 'xz_62_21_08106803894043.png', 'xz_63_20_972349166870117.png', 'xz_64_20_992769241333008.png', 'xz_65_21_248464584350586.png', 'xz_66_21_313180923461914.png', 'xz_67_21_297292709350586.png', 'xz_68_21_383716583251953.png', 'xz_69_21_110872268676758.png', 'xz_70_21_05684471130371.png', 'xz_71_21_281734466552734.png', 'xz_72_21_137819290161133.png', 'xz_73_21_1392879486084.png', 'xz_74_21_083436965942383.png', 'xz_75_21_015682220458984.png', 'xz_76_21_2166805267334.png', 'xz_77_20_93269157409668.png', 'xz_78_20_859233856201172.png', 'xz_79_21_17803955078125.png', 'xz_80_21_217634201049805.png', 'xz_81_21_20244026184082.png', 'xz_82_21_16364288330078.png', 'xz_83_21_230432510375977.png', 'xz_84_21_47684669494629.png', 'xz_85_21_247568130493164.png', 'xz_86_21_440502166748047.png', 'xz_87_21_70833396911621.png', 'xz_88_21_585166931152344.png', 'xz_89_21_581697463989258.png', 'xz_90_21_55133056640625.png', 'xz_91_21_378232955932617.png', 'xz_92_21_459962844848633.png', 'xz_93_21_085294723510742.png', 'xz_94_20_909591674804688.png', 'xz_95_21_19222068786621.png', 'xz_96_21_203510284423828.png', 'xz_97_21_101987838745117.png', 'xz_98_21_24575424194336.png', 'xz_99_21_338294982910156.png', 'xz_100_21_31319808959961.png', 'xz_101_20_998830795288086.png', 'xz_102_20_96963119506836.png', 'xz_103_21_1276798248291.png', 'xz_104_20_875167846679688.png', 'xz_105_20_872432708740234.png', 'xz_106_20_745908737182617.png', 'xz_107_20_663124084472656.png', 'xz_108_20_714563369750977.png', 'xz_109_20_403167724609375.png', 'xz_110_20_39288902282715.png', 'xz_111_20_505619049072266.png', 'xz_112_20_618803024291992.png', 'xz_113_20_785926818847656.png', 'xz_114_20_83894920349121.png', 'xz_115_20_930051803588867.png', 'xz_116_20_881633758544922.png', 'xz_117_20_603975296020508.png', 'xz_118_20_619487762451172.png', 'xz_119_20_893224716186523.png', 'xz_120_20_876672744750977.png', 'xz_121_20_98401641845703.png', 'xz_122_21_14552116394043.png', 'xz_123_21_177059173583984.png', 'xz_124_21_257492065429688.png', 'xz_125_21_08106803894043.png', 'xz_126_20_972349166870117.png', 'xz_127_20_992769241333008.png']\n"
     ]
    }
   ],
   "source": [
    "# Specify the directory path\n",
    "directory_path = \"/home/jakobtroidl/Desktop/neural-volumes/logs/hemibrain-final-fixed/results_iteration_1/15750_18505_17484.npy/bilinear/\"\n",
    "# List all files in the directory\n",
    "file_list = os.listdir(directory_path)\n",
    "\n",
    "dir = os.path.dirname(os.path.dirname(directory_path))\n",
    "\n",
    "# Sort the list of files\n",
    "file_list = sorted(file_list, key=natural_sort_key)\n",
    "\n",
    "print(file_list)\n",
    "\n",
    "images = []\n",
    "\n",
    "# Print the list of files\n",
    "for file in file_list:\n",
    "    # Open the image using Pillow\n",
    "    image = Image.open(directory_path + file)\n",
    "    array = np.array(image)\n",
    "    images.append(array)\n",
    "\n",
    "# Convert the list of images to a 3D array\n",
    "images = np.array(images)\n"
   ]
  },
  {
   "cell_type": "code",
   "execution_count": 9,
   "metadata": {},
   "outputs": [
    {
     "name": "stdout",
     "output_type": "stream",
     "text": [
      "(128, 128, 128)\n",
      "float32\n"
     ]
    }
   ],
   "source": [
    "# convert to float\n",
    "images = images.astype(np.float32)\n",
    "# normalize to the range 0-1\n",
    "images /= 255.0\n",
    "\n",
    "print(images.shape)\n",
    "print(images.dtype)\n",
    "\n"
   ]
  },
  {
   "cell_type": "code",
   "execution_count": 10,
   "metadata": {},
   "outputs": [
    {
     "name": "stdout",
     "output_type": "stream",
     "text": [
      "/home/jakobtroidl/Desktop/neural-volumes/logs/hemibrain-final-fixed/results_iteration_1/15750_18505_17484.npy/bilinear.npy\n"
     ]
    }
   ],
   "source": [
    "path = os.path.join(dir, 'bilinear.npy')\n",
    "print(path)\n",
    "\n",
    "np.save(path, images)"
   ]
  }
 ],
 "metadata": {
  "kernelspec": {
   "display_name": "venv",
   "language": "python",
   "name": "python3"
  },
  "language_info": {
   "codemirror_mode": {
    "name": "ipython",
    "version": 3
   },
   "file_extension": ".py",
   "mimetype": "text/x-python",
   "name": "python",
   "nbconvert_exporter": "python",
   "pygments_lexer": "ipython3",
   "version": "3.9.18"
  }
 },
 "nbformat": 4,
 "nbformat_minor": 2
}
