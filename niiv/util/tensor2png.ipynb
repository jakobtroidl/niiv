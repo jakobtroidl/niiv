{
 "cells": [
  {
   "cell_type": "code",
   "execution_count": 7,
   "metadata": {},
   "outputs": [],
   "source": [
    "import numpy as np\n",
    "import torch\n",
    "import os\n",
    "from PIL import Image"
   ]
  },
  {
   "cell_type": "code",
   "execution_count": 8,
   "metadata": {},
   "outputs": [],
   "source": [
    "input_path = '/home/jakobtroidl/Desktop/neural-volumes/logs/hemibrain-volume-noisy-siren/siren-benchmark.npy'\n",
    "output_path = '/home/jakobtroidl/Desktop/neural-volumes/playground/mess/'"
   ]
  },
  {
   "cell_type": "code",
   "execution_count": 9,
   "metadata": {},
   "outputs": [],
   "source": [
    "# load data\n",
    "gt = np.load(input_path)\n",
    "\n",
    "for i in range(gt.shape[-1]):\n",
    "    data = gt[:,:,i].squeeze() * 255\n",
    "    im = Image.fromarray(data.astype('uint8'))\n",
    "    name = output_path + str(i) + \".png\"\n",
    "    im.save(str(name))"
   ]
  }
 ],
 "metadata": {
  "kernelspec": {
   "display_name": "venv",
   "language": "python",
   "name": "python3"
  },
  "language_info": {
   "codemirror_mode": {
    "name": "ipython",
    "version": 3
   },
   "file_extension": ".py",
   "mimetype": "text/x-python",
   "name": "python",
   "nbconvert_exporter": "python",
   "pygments_lexer": "ipython3",
   "version": "3.9.18"
  }
 },
 "nbformat": 4,
 "nbformat_minor": 2
}
