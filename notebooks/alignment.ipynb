{
 "cells": [
  {
   "cell_type": "code",
   "execution_count": 2,
   "metadata": {},
   "outputs": [],
   "source": [
    "import numpy as np"
   ]
  },
  {
   "cell_type": "code",
   "execution_count": 3,
   "metadata": {},
   "outputs": [
    {
     "name": "stdout",
     "output_type": "stream",
     "text": [
      "(128, 128, 128)\n"
     ]
    }
   ],
   "source": [
    "path = \"/nrs/turaga/jakob/neural-volumes/data/hemibrain-volume-noisy-large/test/15024_19583_16759.npy\"\n",
    "volume = np.load(path)\n",
    "print(volume.shape)"
   ]
  },
  {
   "cell_type": "code",
   "execution_count": 14,
   "metadata": {},
   "outputs": [],
   "source": [
    "xz = []\n",
    "yz = []\n",
    "\n",
    "for i in range(0, 128):\n",
    "    xz.append(volume[:, i, :])\n",
    "    yz.append(volume[i, :, :])\n",
    "\n"
   ]
  },
  {
   "cell_type": "code",
   "execution_count": 18,
   "metadata": {},
   "outputs": [],
   "source": [
    "xz_vol = np.array(xz)\n",
    "yz_vol = np.array(yz)\n",
    "xz_vol = xz_vol.transpose(1, 0, 2)"
   ]
  },
  {
   "cell_type": "code",
   "execution_count": 19,
   "metadata": {},
   "outputs": [],
   "source": [
    "# save xz and yz volumes as numpy arrays\n",
    "np.save(\"xz.npy\", xz_vol)\n",
    "np.save(\"yz.npy\", yz_vol)"
   ]
  }
 ],
 "metadata": {
  "kernelspec": {
   "display_name": "niiv",
   "language": "python",
   "name": "python3"
  },
  "language_info": {
   "codemirror_mode": {
    "name": "ipython",
    "version": 3
   },
   "file_extension": ".py",
   "mimetype": "text/x-python",
   "name": "python",
   "nbconvert_exporter": "python",
   "pygments_lexer": "ipython3",
   "version": "3.9.21"
  }
 },
 "nbformat": 4,
 "nbformat_minor": 2
}
