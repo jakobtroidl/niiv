{
 "cells": [
  {
   "cell_type": "code",
   "execution_count": 11,
   "metadata": {},
   "outputs": [],
   "source": [
    "import numpy as np"
   ]
  },
  {
   "cell_type": "code",
   "execution_count": 12,
   "metadata": {},
   "outputs": [
    {
     "name": "stdout",
     "output_type": "stream",
     "text": [
      "(128, 128, 128)\n"
     ]
    }
   ],
   "source": [
    "path = \"/nrs/turaga/jakob/neural-volumes/data/hemibrain-volume-noisy-large/train/16732_20776_15442.npy\"\n",
    "vol = np.load(path)\n",
    "print(vol.shape)"
   ]
  },
  {
   "cell_type": "code",
   "execution_count": 13,
   "metadata": {},
   "outputs": [
    {
     "name": "stdout",
     "output_type": "stream",
     "text": [
      "(128, 128, 16)\n"
     ]
    }
   ],
   "source": [
    "# 3d average pool along z axix (factor 8)\n",
    "vol = np.mean(vol.reshape((vol.shape[0], vol.shape[1], vol.shape[2]//8, 8)), axis=3)\n",
    "print(vol.shape)"
   ]
  },
  {
   "cell_type": "code",
   "execution_count": 14,
   "metadata": {},
   "outputs": [],
   "source": [
    "# save n XY images as PNG\n",
    "import os\n",
    "import matplotlib.pyplot as plt\n",
    "from PIL import Image\n",
    "\n",
    "os.makedirs(\"XY\", exist_ok=True)\n",
    "for i in range(vol.shape[-1]):\n",
    "    plt.imsave(\"XY/{}.png\".format(i), vol[:, :, i], cmap=\"gray\")\n",
    "\n",
    "# save n XZ images as PNG\n",
    "os.makedirs(\"XZ\", exist_ok=True)\n",
    "for i in range(vol.shape[1]):\n",
    "    plt.imsave(\"XZ/{}.png\".format(i), vol[:,i,:], cmap=\"gray\")"
   ]
  }
 ],
 "metadata": {
  "kernelspec": {
   "display_name": "niiv",
   "language": "python",
   "name": "python3"
  },
  "language_info": {
   "codemirror_mode": {
    "name": "ipython",
    "version": 3
   },
   "file_extension": ".py",
   "mimetype": "text/x-python",
   "name": "python",
   "nbconvert_exporter": "python",
   "pygments_lexer": "ipython3",
   "version": "3.9.21"
  }
 },
 "nbformat": 4,
 "nbformat_minor": 2
}
