{
 "cells": [
  {
   "cell_type": "code",
   "execution_count": null,
   "metadata": {},
   "outputs": [],
   "source": [
    "!pip install niiv numpy torch"
   ]
  },
  {
   "cell_type": "code",
   "execution_count": null,
   "metadata": {},
   "outputs": [],
   "source": [
    "import niiv \n",
    "import torch\n",
    "import numpy as np"
   ]
  },
  {
   "cell_type": "markdown",
   "metadata": {},
   "source": [
    "### Get Example Model and Data\n",
    "The demo model is pretrained on the Hemibrain dataset as described in the paper. We also download an examplary 128x128x128 volume from the same dataset."
   ]
  },
  {
   "cell_type": "code",
   "execution_count": 1,
   "metadata": {},
   "outputs": [
    {
     "name": "stdout",
     "output_type": "stream",
     "text": [
      "--2024-03-04 14:27:41--  https://storage.googleapis.com/niiv/models/hemibrain/demo_model.pth\n",
      "Resolving storage.googleapis.com (storage.googleapis.com)... 2607:f8b0:4006:80e::201b, 2607:f8b0:4006:823::201b, 2607:f8b0:4006:808::201b, ...\n",
      "Connecting to storage.googleapis.com (storage.googleapis.com)|2607:f8b0:4006:80e::201b|:443... failed: Network is unreachable.\n",
      "Connecting to storage.googleapis.com (storage.googleapis.com)|2607:f8b0:4006:823::201b|:443... failed: Network is unreachable.\n",
      "Connecting to storage.googleapis.com (storage.googleapis.com)|2607:f8b0:4006:808::201b|:443... failed: Network is unreachable.\n",
      "Connecting to storage.googleapis.com (storage.googleapis.com)|2607:f8b0:4006:822::201b|:443... failed: Network is unreachable.\n",
      "Connecting to storage.googleapis.com (storage.googleapis.com)|142.251.40.187|:443... connected.\n",
      "HTTP request sent, awaiting response... 200 OK\n",
      "Length: 6036695 (5.8M) [application/octet-stream]\n",
      "Saving to: ‘demo_model.pth’\n",
      "\n",
      "demo_model.pth      100%[===================>]   5.76M  34.3MB/s    in 0.2s    \n",
      "\n",
      "2024-03-04 14:27:41 (34.3 MB/s) - ‘demo_model.pth’ saved [6036695/6036695]\n",
      "\n",
      "--2024-03-04 14:27:42--  https://storage.googleapis.com/niiv/volumes/hemibrain/isotropic_example.npy\n",
      "Resolving storage.googleapis.com (storage.googleapis.com)... 2607:f8b0:4006:80e::201b, 2607:f8b0:4006:822::201b, 2607:f8b0:4006:823::201b, ...\n",
      "Connecting to storage.googleapis.com (storage.googleapis.com)|2607:f8b0:4006:80e::201b|:443... failed: Network is unreachable.\n",
      "Connecting to storage.googleapis.com (storage.googleapis.com)|2607:f8b0:4006:822::201b|:443... failed: Network is unreachable.\n",
      "Connecting to storage.googleapis.com (storage.googleapis.com)|2607:f8b0:4006:823::201b|:443... failed: Network is unreachable.\n",
      "Connecting to storage.googleapis.com (storage.googleapis.com)|2607:f8b0:4006:808::201b|:443... failed: Network is unreachable.\n",
      "Connecting to storage.googleapis.com (storage.googleapis.com)|172.217.165.155|:443... connected.\n",
      "HTTP request sent, awaiting response... 200 OK\n",
      "Length: 2097280 (2.0M) [application/octet-stream]\n",
      "Saving to: ‘isotropic_example.npy’\n",
      "\n",
      "isotropic_example.n 100%[===================>]   2.00M  --.-KB/s    in 0.08s   \n",
      "\n",
      "2024-03-04 14:27:42 (24.1 MB/s) - ‘isotropic_example.npy’ saved [2097280/2097280]\n",
      "\n"
     ]
    }
   ],
   "source": [
    "!wget https://storage.googleapis.com/niiv/models/hemibrain/demo_model.pth\n",
    "!wget https://storage.googleapis.com/niiv/volumes/hemibrain/isotropic_example.npy"
   ]
  },
  {
   "cell_type": "markdown",
   "metadata": {},
   "source": [
    "### Load Anisotropic Volume and Pretrained Model"
   ]
  },
  {
   "cell_type": "code",
   "execution_count": null,
   "metadata": {},
   "outputs": [],
   "source": []
  }
 ],
 "metadata": {
  "kernelspec": {
   "display_name": "nvp-v2",
   "language": "python",
   "name": "python3"
  },
  "language_info": {
   "codemirror_mode": {
    "name": "ipython",
    "version": 3
   },
   "file_extension": ".py",
   "mimetype": "text/x-python",
   "name": "python",
   "nbconvert_exporter": "python",
   "pygments_lexer": "ipython3",
   "version": "3.9.18"
  }
 },
 "nbformat": 4,
 "nbformat_minor": 2
}
