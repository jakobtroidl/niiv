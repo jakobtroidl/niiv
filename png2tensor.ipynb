{
 "cells": [
  {
   "cell_type": "code",
   "execution_count": 21,
   "metadata": {},
   "outputs": [],
   "source": [
    "import numpy as np\n",
    "import os\n",
    "from PIL import Image\n",
    "import re"
   ]
  },
  {
   "cell_type": "code",
   "execution_count": 22,
   "metadata": {},
   "outputs": [],
   "source": [
    "def natural_sort_key(s):\n",
    "    return [int(text) if text.isdigit() else text.lower() for text in re.split('([0-9]+)', s)]\n"
   ]
  },
  {
   "cell_type": "code",
   "execution_count": 23,
   "metadata": {},
   "outputs": [
    {
     "name": "stdout",
     "output_type": "stream",
     "text": [
      "['nearest_0_psnr_19,489557359758464.png', 'nearest_1_psnr_19,660722512695035.png', 'nearest_2_psnr_19,64644056447216.png', 'nearest_3_psnr_19,556869295864146.png', 'nearest_4_psnr_19,458198205364475.png', 'nearest_5_psnr_19,34021932494626.png', 'nearest_6_psnr_19,27543050165745.png', 'nearest_7_psnr_19,169002185248317.png', 'nearest_8_psnr_19,093154728551895.png', 'nearest_9_psnr_19,084330165668742.png', 'nearest_10_psnr_19,022205092976122.png', 'nearest_11_psnr_18,916460399225056.png', 'nearest_12_psnr_18,82881906101283.png', 'nearest_13_psnr_18,883070215574303.png', 'nearest_14_psnr_19,080372654995386.png', 'nearest_15_psnr_19,17834724072642.png', 'nearest_16_psnr_19,2070131890323.png', 'nearest_17_psnr_19,271992246785718.png', 'nearest_18_psnr_19,327228042631567.png', 'nearest_19_psnr_19,42502215319459.png', 'nearest_20_psnr_19,501209667017093.png', 'nearest_21_psnr_19,55237180867974.png', 'nearest_22_psnr_19,675453874585394.png', 'nearest_23_psnr_19,922696918350383.png', 'nearest_24_psnr_20,197793090125508.png', 'nearest_25_psnr_20,3443218189671.png', 'nearest_26_psnr_20,3732783315017.png', 'nearest_27_psnr_20,206618344723843.png', 'nearest_28_psnr_20,124238565941734.png', 'nearest_29_psnr_20,027555227490627.png', 'nearest_30_psnr_19,91721616125407.png', 'nearest_31_psnr_19,807129059689426.png', 'nearest_32_psnr_19,85740717021091.png', 'nearest_33_psnr_19,9522603242413.png', 'nearest_34_psnr_20,11297134468223.png', 'nearest_35_psnr_20,207845361169298.png', 'nearest_36_psnr_20,085135146055567.png', 'nearest_37_psnr_19,964319784164303.png', 'nearest_38_psnr_19,924458132352537.png', 'nearest_39_psnr_20,046652264974544.png', 'nearest_40_psnr_20,12930237276815.png', 'nearest_41_psnr_20,09613170136056.png', 'nearest_42_psnr_20,084488795744733.png', 'nearest_43_psnr_20,184668074856944.png', 'nearest_44_psnr_20,332144681399107.png', 'nearest_45_psnr_20,512650713059397.png', 'nearest_46_psnr_20,67455265638103.png', 'nearest_47_psnr_20,753469368549283.png', 'nearest_48_psnr_20,833155154281904.png', 'nearest_49_psnr_20,91555832783304.png', 'nearest_50_psnr_20,926979865778407.png', 'nearest_51_psnr_20,90228826401763.png', 'nearest_52_psnr_20,866404056643432.png', 'nearest_53_psnr_20,934391840967276.png', 'nearest_54_psnr_20,913822604291198.png', 'nearest_55_psnr_20,87372845075457.png', 'nearest_56_psnr_20,714007248905958.png', 'nearest_57_psnr_20,64746654086495.png', 'nearest_58_psnr_20,698118273587284.png', 'nearest_59_psnr_20,758942307424757.png', 'nearest_60_psnr_20,899422119286225.png', 'nearest_61_psnr_21,01548997758406.png', 'nearest_62_psnr_20,876709946517984.png', 'nearest_63_psnr_20,802438235256826.png', 'nearest_64_psnr_20,77836223608999.png', 'nearest_65_psnr_20,793078508053263.png', 'nearest_66_psnr_20,709374477808247.png', 'nearest_67_psnr_20,672445521862794.png', 'nearest_68_psnr_20,64781097678191.png', 'nearest_69_psnr_20,55517299853911.png', 'nearest_70_psnr_20,469695741224733.png', 'nearest_71_psnr_20,289324719765517.png', 'nearest_72_psnr_20,185499657974585.png', 'nearest_73_psnr_20,231372338228468.png', 'nearest_74_psnr_20,34344829680534.png', 'nearest_75_psnr_20,38712008274205.png', 'nearest_76_psnr_20,51001745663255.png', 'nearest_77_psnr_20,645791311105906.png', 'nearest_78_psnr_20,604178203604405.png', 'nearest_79_psnr_20,548889699091166.png', 'nearest_80_psnr_20,445096122346488.png', 'nearest_81_psnr_20,336011434064236.png', 'nearest_82_psnr_20,211456352894768.png', 'nearest_83_psnr_20,15894048325943.png', 'nearest_84_psnr_20,014999350590887.png', 'nearest_85_psnr_20,103877698958627.png', 'nearest_86_psnr_20,280418302825126.png', 'nearest_87_psnr_20,36555402062932.png', 'nearest_88_psnr_20,26671948482704.png', 'nearest_89_psnr_20,195816613204887.png', 'nearest_90_psnr_20,13198383847505.png', 'nearest_91_psnr_20,10164917450868.png', 'nearest_92_psnr_20,17395297372518.png', 'nearest_93_psnr_20,36031900058031.png', 'nearest_94_psnr_20,472462004726474.png', 'nearest_95_psnr_20,460672812374504.png', 'nearest_96_psnr_20,31426411017419.png', 'nearest_97_psnr_20,237387593204048.png', 'nearest_98_psnr_20,309322005715103.png', 'nearest_99_psnr_20,397371419256324.png', 'nearest_100_psnr_20,54552646570634.png', 'nearest_101_psnr_20,678567715439957.png', 'nearest_102_psnr_20,73921463174596.png', 'nearest_103_psnr_20,785546824254844.png', 'nearest_104_psnr_20,886695796855022.png', 'nearest_105_psnr_20,909718314954805.png', 'nearest_106_psnr_20,772877902123085.png', 'nearest_107_psnr_20,63289200899245.png', 'nearest_108_psnr_20,55583689581189.png', 'nearest_109_psnr_20,544739593948073.png', 'nearest_110_psnr_20,662223913078645.png', 'nearest_111_psnr_20,73427453211543.png', 'nearest_112_psnr_20,70327219055851.png', 'nearest_113_psnr_20,7116002028835.png', 'nearest_114_psnr_20,747683092189742.png', 'nearest_115_psnr_20,70232029242544.png', 'nearest_116_psnr_20,760179044336923.png', 'nearest_117_psnr_20,842473901569246.png', 'nearest_118_psnr_20,780011871764835.png', 'nearest_119_psnr_20,628596199575288.png', 'nearest_120_psnr_20,384071295265013.png', 'nearest_121_psnr_20,249519910766264.png', 'nearest_122_psnr_20,212207592135684.png', 'nearest_123_psnr_20,193245178563792.png', 'nearest_124_psnr_20,189895604659057.png', 'nearest_125_psnr_20,13900187296992.png', 'nearest_126_psnr_20,016166027270934.png', 'nearest_127_psnr_19,839393303826295.png']\n"
     ]
    }
   ],
   "source": [
    "# Specify the directory path\n",
    "directory_path = '/home/jakobtroidl/Desktop/NVP/logs/images-hemibrain-large-denoised/results/20499_16527_19910/nearest/'\n",
    "\n",
    "# List all files in the directory\n",
    "file_list = os.listdir(directory_path)\n",
    "\n",
    "# Sort the list of files\n",
    "file_list = sorted(file_list, key=natural_sort_key)\n",
    "\n",
    "print(file_list)\n",
    "\n",
    "images = []\n",
    "\n",
    "# Print the list of files\n",
    "for file in file_list:\n",
    "    # Open the image using Pillow\n",
    "    image = Image.open(directory_path + file)\n",
    "    array = np.array(image)\n",
    "    images.append(array)\n",
    "\n",
    "# Convert the list of images to a 3D array\n",
    "images = np.array(images)\n"
   ]
  },
  {
   "cell_type": "code",
   "execution_count": 24,
   "metadata": {},
   "outputs": [
    {
     "name": "stdout",
     "output_type": "stream",
     "text": [
      "(128, 128, 128)\n",
      "float32\n"
     ]
    }
   ],
   "source": [
    "# convert to float\n",
    "images = images.astype(np.float32)\n",
    "# normalize to the range 0-1\n",
    "images /= 255.0\n",
    "\n",
    "print(images.shape)\n",
    "print(images.dtype)\n",
    "\n"
   ]
  },
  {
   "cell_type": "code",
   "execution_count": 25,
   "metadata": {},
   "outputs": [],
   "source": [
    "np.save('nearest-nvp-mip-0.npy', images)"
   ]
  }
 ],
 "metadata": {
  "kernelspec": {
   "display_name": "venv",
   "language": "python",
   "name": "python3"
  },
  "language_info": {
   "codemirror_mode": {
    "name": "ipython",
    "version": 3
   },
   "file_extension": ".py",
   "mimetype": "text/x-python",
   "name": "python",
   "nbconvert_exporter": "python",
   "pygments_lexer": "ipython3",
   "version": "3.9.18"
  }
 },
 "nbformat": 4,
 "nbformat_minor": 2
}
