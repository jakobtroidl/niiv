{
 "cells": [
  {
   "cell_type": "code",
   "execution_count": 3,
   "metadata": {},
   "outputs": [],
   "source": [
    "import numpy as np\n",
    "import cv2\n",
    "from numpy.fft import fft2, fftshift\n"
   ]
  },
  {
   "cell_type": "code",
   "execution_count": 4,
   "metadata": {},
   "outputs": [
    {
     "name": "stdout",
     "output_type": "stream",
     "text": [
      "Maximum Frequency: 293.35690851180055\n"
     ]
    }
   ],
   "source": [
    "path = \"/home/jakobtroidl/Desktop/neural-volumes/data/hemibrain-volume-denoised-small/test_sequence/17365_20067_16941/77.png\"\n",
    "\n",
    "# Load the image (assuming it's a grayscale image)\n",
    "image = cv2.imread(path, cv2.IMREAD_GRAYSCALE)\n",
    "\n",
    "# Apply Fast Fourier Transform\n",
    "f_transform = fft2(image)\n",
    "f_shift = fftshift(f_transform)\n",
    "\n",
    "# Compute magnitude spectrum\n",
    "magnitude_spectrum = 20*np.log(np.abs(f_shift))\n",
    "\n",
    "# Find the maximum frequency\n",
    "max_frequency = np.max(magnitude_spectrum)\n",
    "\n",
    "print(f\"Maximum Frequency: {max_frequency}\")"
   ]
  }
 ],
 "metadata": {
  "kernelspec": {
   "display_name": "nvp-v2",
   "language": "python",
   "name": "python3"
  },
  "language_info": {
   "codemirror_mode": {
    "name": "ipython",
    "version": 3
   },
   "file_extension": ".py",
   "mimetype": "text/x-python",
   "name": "python",
   "nbconvert_exporter": "python",
   "pygments_lexer": "ipython3",
   "version": "3.9.18"
  }
 },
 "nbformat": 4,
 "nbformat_minor": 2
}
