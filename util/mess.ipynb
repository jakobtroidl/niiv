{
 "cells": [
  {
   "cell_type": "code",
   "execution_count": 13,
   "metadata": {},
   "outputs": [],
   "source": [
    "import numpy as np\n"
   ]
  },
  {
   "cell_type": "code",
   "execution_count": 14,
   "metadata": {},
   "outputs": [
    {
     "name": "stdout",
     "output_type": "stream",
     "text": [
      "(663, 2048, 2048)\n",
      "float32\n",
      "0.0\n",
      "47129.0\n",
      "(663, 2048, 2048)\n",
      "float32\n",
      "0.0\n",
      "1.0\n"
     ]
    }
   ],
   "source": [
    "data = np.load(\"/home/jakobtroidl/Desktop/neural-volumes/data/ista/20230716_ExPID114_17_50_53_clahe_normalized_float32.npy\")\n",
    "print(data.shape)\n",
    "print(data.dtype)\n",
    "print(data.min())\n",
    "print(data.max())\n",
    "\n",
    "\n",
    "\n",
    "# convery to float 32\n",
    "data = data.astype(np.float32)\n",
    "data = data / data.max()\n",
    "\n",
    "\n",
    "print(data.shape)\n",
    "print(data.dtype)\n",
    "print(data.min())\n",
    "print(data.max())\n",
    "\n",
    "np.save(\"/home/jakobtroidl/Desktop/neural-volumes/data/ista/20230716_ExPID114_17_50_53_clahe_normalized_float32_0_1.npy\", data)\n",
    "\n",
    "\n"
   ]
  }
 ],
 "metadata": {
  "kernelspec": {
   "display_name": "nvp-v2",
   "language": "python",
   "name": "python3"
  },
  "language_info": {
   "codemirror_mode": {
    "name": "ipython",
    "version": 3
   },
   "file_extension": ".py",
   "mimetype": "text/x-python",
   "name": "python",
   "nbconvert_exporter": "python",
   "pygments_lexer": "ipython3",
   "version": "3.9.18"
  }
 },
 "nbformat": 4,
 "nbformat_minor": 2
}
