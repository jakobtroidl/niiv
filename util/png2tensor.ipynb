{
 "cells": [
  {
   "cell_type": "code",
   "execution_count": 6,
   "metadata": {},
   "outputs": [],
   "source": [
    "import numpy as np\n",
    "import os\n",
    "from PIL import Image\n",
    "import re"
   ]
  },
  {
   "cell_type": "code",
   "execution_count": 7,
   "metadata": {},
   "outputs": [],
   "source": [
    "def natural_sort_key(s):\n",
    "    return [int(text) if text.isdigit() else text.lower() for text in re.split('([0-9]+)', s)]\n"
   ]
  },
  {
   "cell_type": "code",
   "execution_count": 8,
   "metadata": {},
   "outputs": [
    {
     "name": "stdout",
     "output_type": "stream",
     "text": [
      "['result_0_psnr_25,737368443308224.png', 'result_1_psnr_26,013396974739894.png', 'result_2_psnr_26,071438218604243.png', 'result_3_psnr_26,056624690994145.png', 'result_4_psnr_25,96216952021484.png', 'result_5_psnr_25,735185639286527.png', 'result_6_psnr_25,70154272187888.png', 'result_7_psnr_25,812107953911024.png', 'result_8_psnr_25,8242681140079.png', 'result_9_psnr_25,760823786472315.png', 'result_10_psnr_25,699009709355536.png', 'result_11_psnr_25,916198785694682.png', 'result_12_psnr_26,056272583028512.png', 'result_13_psnr_26,154446652324744.png', 'result_14_psnr_26,36363128516618.png', 'result_15_psnr_26,546937463759498.png', 'result_16_psnr_26,665354762969088.png', 'result_17_psnr_26,530114786586342.png', 'result_18_psnr_26,45908710123587.png', 'result_19_psnr_26,492636838456512.png', 'result_20_psnr_26,386781791479162.png', 'result_21_psnr_26,341190212741846.png', 'result_22_psnr_26,317163911971523.png', 'result_23_psnr_26,247387635658065.png', 'result_24_psnr_26,223352688599878.png', 'result_25_psnr_26,251142252088854.png', 'result_26_psnr_26,41754256278645.png', 'result_27_psnr_26,561944883915945.png', 'result_28_psnr_26,444169010671867.png', 'result_29_psnr_26,226029414378168.png', 'result_30_psnr_26,07634810328308.png', 'result_31_psnr_25,920069251238417.png', 'result_32_psnr_25,819485024075306.png', 'result_33_psnr_25,93257251438391.png', 'result_34_psnr_26,098950781836972.png', 'result_35_psnr_26,174571417534263.png', 'result_36_psnr_26,04628801759985.png', 'result_37_psnr_25,862071677416417.png', 'result_38_psnr_25,698688036466383.png', 'result_39_psnr_25,64525673843686.png', 'result_40_psnr_25,58472794909816.png', 'result_41_psnr_25,328929992601935.png', 'result_42_psnr_25,444359322945388.png', 'result_43_psnr_25,67707980185904.png', 'result_44_psnr_26,18226501312726.png', 'result_45_psnr_26,335782620402554.png', 'result_46_psnr_26,457593443806772.png', 'result_47_psnr_26,764953114453792.png', 'result_48_psnr_26,82371222372161.png', 'result_49_psnr_26,936396516424367.png', 'result_50_psnr_27,122027549369975.png', 'result_51_psnr_27,265395622958593.png', 'result_52_psnr_27,445559642302207.png', 'result_53_psnr_27,66864453506619.png', 'result_54_psnr_27,595649564411517.png', 'result_55_psnr_27,374932327598366.png', 'result_56_psnr_27,191879847107828.png', 'result_57_psnr_27,026573707211114.png', 'result_58_psnr_27,09711127311759.png', 'result_59_psnr_27,20675660278896.png', 'result_60_psnr_27,22523842348512.png', 'result_61_psnr_26,82169564958075.png', 'result_62_psnr_26,35036488345119.png', 'result_63_psnr_26,320242163123254.png', 'result_64_psnr_26,352914719773413.png', 'result_65_psnr_26,491181061271693.png', 'result_66_psnr_26,647640776332075.png', 'result_67_psnr_26,75383868100085.png', 'result_68_psnr_27,121219728501195.png', 'result_69_psnr_27,26806465292009.png', 'result_70_psnr_27,499994325672986.png', 'result_71_psnr_27,356883440178716.png', 'result_72_psnr_27,22826062699664.png', 'result_73_psnr_27,017456480212843.png', 'result_74_psnr_26,933011832757785.png', 'result_75_psnr_26,915461370558575.png', 'result_76_psnr_26,857418454322556.png', 'result_77_psnr_26,96130719474916.png', 'result_78_psnr_26,990739306606628.png', 'result_79_psnr_26,921196702234656.png', 'result_80_psnr_26,935759074401243.png', 'result_81_psnr_26,95002175284824.png', 'result_82_psnr_27,04840674950671.png', 'result_83_psnr_26,96046243492919.png', 'result_84_psnr_26,920983262034873.png', 'result_85_psnr_26,833275531066725.png', 'result_86_psnr_26,625395493087723.png', 'result_87_psnr_26,432696720182896.png', 'result_88_psnr_26,420013347670523.png', 'result_89_psnr_26,709450457904744.png', 'result_90_psnr_26,825244201848783.png', 'result_91_psnr_26,92657368968544.png', 'result_92_psnr_27,055980632119336.png', 'result_93_psnr_27,01762531857513.png', 'result_94_psnr_26,77499662107096.png', 'result_95_psnr_26,62784608156867.png', 'result_96_psnr_26,555284198272876.png', 'result_97_psnr_26,466414389727145.png', 'result_98_psnr_26,352715025624093.png', 'result_99_psnr_26,166270024963175.png', 'result_100_psnr_26,273748416906997.png', 'result_101_psnr_26,574974027373194.png', 'result_102_psnr_26,96683323462379.png', 'result_103_psnr_27,096756973740174.png', 'result_104_psnr_27,12732890763066.png', 'result_105_psnr_27,265192148804815.png', 'result_106_psnr_27,335550683137395.png', 'result_107_psnr_27,204371590404786.png', 'result_108_psnr_27,082616315913477.png', 'result_109_psnr_26,96174604836919.png', 'result_110_psnr_26,974086274573295.png', 'result_111_psnr_27,071308787067338.png', 'result_112_psnr_27,146283705497872.png', 'result_113_psnr_27,2063424096565.png', 'result_114_psnr_27,530120154846184.png', 'result_115_psnr_27,492944855974546.png', 'result_116_psnr_27,396588634291867.png', 'result_117_psnr_27,274723276075164.png', 'result_118_psnr_27,29113208594809.png', 'result_119_psnr_27,477818721130767.png', 'result_120_psnr_27,558164978344863.png', 'result_121_psnr_27,37404010821653.png', 'result_122_psnr_27,19432078411035.png', 'result_123_psnr_27,14529854057951.png', 'result_124_psnr_26,919712787155504.png', 'result_125_psnr_26,82445980650953.png', 'result_126_psnr_26,624204736088135.png', 'result_127_psnr_26,485225000953598.png']\n"
     ]
    }
   ],
   "source": [
    "# Specify the directory path\n",
    "directory_path = '/home/jakobtroidl/Desktop/neural-volumes/logs/hemibrain-volume-no-overlap-loss/results_iteration_9/20009_16042_20892/result/'\n",
    "\n",
    "# List all files in the directory\n",
    "file_list = os.listdir(directory_path)\n",
    "\n",
    "# Sort the list of files\n",
    "file_list = sorted(file_list, key=natural_sort_key)\n",
    "\n",
    "print(file_list)\n",
    "\n",
    "images = []\n",
    "\n",
    "# Print the list of files\n",
    "for file in file_list:\n",
    "    # Open the image using Pillow\n",
    "    image = Image.open(directory_path + file)\n",
    "    array = np.array(image)\n",
    "    images.append(array)\n",
    "\n",
    "# Convert the list of images to a 3D array\n",
    "images = np.array(images)\n"
   ]
  },
  {
   "cell_type": "code",
   "execution_count": 9,
   "metadata": {},
   "outputs": [
    {
     "name": "stdout",
     "output_type": "stream",
     "text": [
      "(128, 128, 128)\n",
      "float32\n"
     ]
    }
   ],
   "source": [
    "# convert to float\n",
    "images = images.astype(np.float32)\n",
    "# normalize to the range 0-1\n",
    "images /= 255.0\n",
    "\n",
    "print(images.shape)\n",
    "print(images.dtype)\n",
    "\n"
   ]
  },
  {
   "cell_type": "code",
   "execution_count": 10,
   "metadata": {},
   "outputs": [],
   "source": [
    "np.save('result-without-step-2.npy', images)"
   ]
  }
 ],
 "metadata": {
  "kernelspec": {
   "display_name": "venv",
   "language": "python",
   "name": "python3"
  },
  "language_info": {
   "codemirror_mode": {
    "name": "ipython",
    "version": 3
   },
   "file_extension": ".py",
   "mimetype": "text/x-python",
   "name": "python",
   "nbconvert_exporter": "python",
   "pygments_lexer": "ipython3",
   "version": "3.9.18"
  }
 },
 "nbformat": 4,
 "nbformat_minor": 2
}
