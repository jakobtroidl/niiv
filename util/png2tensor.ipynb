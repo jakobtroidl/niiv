{
 "cells": [
  {
   "cell_type": "code",
   "execution_count": 6,
   "metadata": {},
   "outputs": [],
   "source": [
    "import numpy as np\n",
    "import os\n",
    "from PIL import Image\n",
    "import re"
   ]
  },
  {
   "cell_type": "code",
   "execution_count": 7,
   "metadata": {},
   "outputs": [],
   "source": [
    "def natural_sort_key(s):\n",
    "    return [int(text) if text.isdigit() else text.lower() for text in re.split('([0-9]+)', s)]\n"
   ]
  },
  {
   "cell_type": "code",
   "execution_count": 8,
   "metadata": {},
   "outputs": [
    {
     "name": "stdout",
     "output_type": "stream",
     "text": [
      "['result_0_psnr_20,837357178564556.png', 'result_1_psnr_20,756851291471918.png', 'result_2_psnr_21,1209664307291.png', 'result_3_psnr_21,111884974296533.png', 'result_4_psnr_21,07455493876708.png', 'result_5_psnr_20,922530401440977.png', 'result_6_psnr_20,91449067780601.png', 'result_7_psnr_20,910680864087247.png', 'result_8_psnr_20,63448090969224.png', 'result_9_psnr_20,66127922312568.png', 'result_10_psnr_20,929682671407082.png', 'result_11_psnr_20,893742084777607.png', 'result_12_psnr_20,812234479478757.png', 'result_13_psnr_20,98226985467726.png', 'result_14_psnr_20,859076837476273.png', 'result_15_psnr_20,751448027473227.png', 'result_16_psnr_20,438648923955437.png', 'result_17_psnr_20,555538607799466.png', 'result_18_psnr_20,821188464063283.png', 'result_19_psnr_20,79770111828828.png', 'result_20_psnr_20,869840014047906.png', 'result_21_psnr_20,973819100196387.png', 'result_22_psnr_21,139738614840354.png', 'result_23_psnr_20,903340160447655.png', 'result_24_psnr_20,49272902898045.png', 'result_25_psnr_20,397542091286944.png', 'result_26_psnr_20,687690297109064.png', 'result_27_psnr_20,7469623913422.png', 'result_28_psnr_20,839539673945815.png', 'result_29_psnr_20,944944966229805.png', 'result_30_psnr_20,746081661157113.png', 'result_31_psnr_20,665008511869516.png', 'result_32_psnr_20,70445021786653.png', 'result_33_psnr_20,8372098380338.png', 'result_34_psnr_20,977952704289756.png', 'result_35_psnr_20,822100065507403.png', 'result_36_psnr_20,68316443116796.png', 'result_37_psnr_20,714468730829736.png', 'result_38_psnr_20,641918657589997.png', 'result_39_psnr_20,707577928313636.png', 'result_40_psnr_20,567696562711028.png', 'result_41_psnr_20,476003634096244.png', 'result_42_psnr_20,804827312468003.png', 'result_43_psnr_20,778062814715213.png', 'result_44_psnr_20,905189270440513.png', 'result_45_psnr_20,884809994534905.png', 'result_46_psnr_20,80868200250336.png', 'result_47_psnr_20,98992019299508.png', 'result_48_psnr_20,69572109826584.png', 'result_49_psnr_20,785293823438277.png', 'result_50_psnr_21,008788319338475.png', 'result_51_psnr_21,005832673254773.png', 'result_52_psnr_21,02047323381475.png', 'result_53_psnr_20,91481969688828.png', 'result_54_psnr_20,8654762253008.png', 'result_55_psnr_20,917270110158228.png', 'result_56_psnr_20,75112447498571.png', 'result_57_psnr_20,867436137460214.png', 'result_58_psnr_20,908690953924246.png', 'result_59_psnr_20,869588878885796.png', 'result_60_psnr_20,85293243044612.png', 'result_61_psnr_20,840197207582797.png', 'result_62_psnr_20,737273659439843.png', 'result_63_psnr_20,72575588530688.png', 'result_64_psnr_20,6683028442541.png', 'result_65_psnr_20,7341416621473.png', 'result_66_psnr_20,962729739615597.png', 'result_67_psnr_21,05815766395174.png', 'result_68_psnr_20,87763459334485.png', 'result_69_psnr_20,828585973546797.png', 'result_70_psnr_20,824979831844633.png', 'result_71_psnr_20,90476623538158.png', 'result_72_psnr_20,826298570679228.png', 'result_73_psnr_20,72468021767094.png', 'result_74_psnr_21,08877047675407.png', 'result_75_psnr_21,138472049018375.png', 'result_76_psnr_21,109030319970287.png', 'result_77_psnr_21,12836866760435.png', 'result_78_psnr_21,150061017914474.png', 'result_79_psnr_21,311079355767106.png', 'result_80_psnr_20,898157144464818.png', 'result_81_psnr_21,003547168256024.png', 'result_82_psnr_21,14147804095142.png', 'result_83_psnr_20,8670025912107.png', 'result_84_psnr_20,74176639109147.png', 'result_85_psnr_20,934019041048984.png', 'result_86_psnr_20,83710836706822.png', 'result_87_psnr_20,931591080884964.png', 'result_88_psnr_20,8155263567652.png', 'result_89_psnr_20,905690051785566.png', 'result_90_psnr_20,997916996342838.png', 'result_91_psnr_21,02636105849706.png', 'result_92_psnr_21,044180366852977.png', 'result_93_psnr_21,07579114353956.png', 'result_94_psnr_20,98523392782142.png', 'result_95_psnr_20,880083118856287.png', 'result_96_psnr_20,59714800391745.png', 'result_97_psnr_20,71042624440665.png', 'result_98_psnr_20,93925275023572.png', 'result_99_psnr_20,94534362965821.png', 'result_100_psnr_20,9596889097538.png', 'result_101_psnr_20,874062515505457.png', 'result_102_psnr_20,802429447511606.png', 'result_103_psnr_20,752045948145188.png', 'result_104_psnr_20,598764858882568.png', 'result_105_psnr_20,625962250494133.png', 'result_106_psnr_21,00213673294627.png', 'result_107_psnr_20,704412170443774.png', 'result_108_psnr_20,729694325151165.png', 'result_109_psnr_20,682447271930997.png', 'result_110_psnr_20,827455992624408.png', 'result_111_psnr_21,025338093005264.png', 'result_112_psnr_20,63125036453908.png', 'result_113_psnr_20,63562224967749.png', 'result_114_psnr_20,73872890248304.png', 'result_115_psnr_20,82453169635488.png', 'result_116_psnr_20,826895707009857.png', 'result_117_psnr_20,82477073246533.png', 'result_118_psnr_20,878220648760283.png', 'result_119_psnr_20,796600385440485.png', 'result_120_psnr_20,641707427324725.png', 'result_121_psnr_20,774919317621276.png', 'result_122_psnr_21,214036761750172.png', 'result_123_psnr_21,029071903318588.png', 'result_124_psnr_20,98876895493893.png', 'result_125_psnr_21,066732787810622.png', 'result_126_psnr_21,162376399560117.png', 'result_127_psnr_20,973271469307218.png']\n"
     ]
    }
   ],
   "source": [
    "# Specify the directory path\n",
    "directory_path = '/home/jakobtroidl/Desktop/neural-volumes/logs/hemibrain-volume-noisy-loss-ablation/results_iteration_31/15548_15559_15781/result/'\n",
    "\n",
    "# List all files in the directory\n",
    "file_list = os.listdir(directory_path)\n",
    "\n",
    "dir = os.path.dirname(os.path.dirname(directory_path))\n",
    "\n",
    "# Sort the list of files\n",
    "file_list = sorted(file_list, key=natural_sort_key)\n",
    "\n",
    "print(file_list)\n",
    "\n",
    "images = []\n",
    "\n",
    "# Print the list of files\n",
    "for file in file_list:\n",
    "    # Open the image using Pillow\n",
    "    image = Image.open(directory_path + file)\n",
    "    array = np.array(image)\n",
    "    images.append(array)\n",
    "\n",
    "# Convert the list of images to a 3D array\n",
    "images = np.array(images)\n"
   ]
  },
  {
   "cell_type": "code",
   "execution_count": 9,
   "metadata": {},
   "outputs": [
    {
     "name": "stdout",
     "output_type": "stream",
     "text": [
      "(128, 128, 128)\n",
      "float32\n"
     ]
    }
   ],
   "source": [
    "# convert to float\n",
    "images = images.astype(np.float32)\n",
    "# normalize to the range 0-1\n",
    "images /= 255.0\n",
    "\n",
    "print(images.shape)\n",
    "print(images.dtype)\n",
    "\n"
   ]
  },
  {
   "cell_type": "code",
   "execution_count": 10,
   "metadata": {},
   "outputs": [
    {
     "name": "stdout",
     "output_type": "stream",
     "text": [
      "/home/jakobtroidl/Desktop/neural-volumes/logs/hemibrain-volume-noisy-loss-ablation/results_iteration_31/15548_15559_15781/reconstructed-mixed-loss-grad-regularizer.npy\n"
     ]
    }
   ],
   "source": [
    "path = os.path.join(dir, 'reconstructed-mixed-loss-grad-regularizer.npy')\n",
    "print(path)\n",
    "\n",
    "np.save(path, images)"
   ]
  }
 ],
 "metadata": {
  "kernelspec": {
   "display_name": "venv",
   "language": "python",
   "name": "python3"
  },
  "language_info": {
   "codemirror_mode": {
    "name": "ipython",
    "version": 3
   },
   "file_extension": ".py",
   "mimetype": "text/x-python",
   "name": "python",
   "nbconvert_exporter": "python",
   "pygments_lexer": "ipython3",
   "version": "3.9.18"
  }
 },
 "nbformat": 4,
 "nbformat_minor": 2
}
