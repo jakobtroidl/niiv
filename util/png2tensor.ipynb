{
 "cells": [
  {
   "cell_type": "code",
   "execution_count": 17,
   "metadata": {},
   "outputs": [],
   "source": [
    "import numpy as np\n",
    "import os\n",
    "from PIL import Image\n",
    "import re"
   ]
  },
  {
   "cell_type": "code",
   "execution_count": 18,
   "metadata": {},
   "outputs": [],
   "source": [
    "def natural_sort_key(s):\n",
    "    return [int(text) if text.isdigit() else text.lower() for text in re.split('([0-9]+)', s)]\n"
   ]
  },
  {
   "cell_type": "code",
   "execution_count": 19,
   "metadata": {},
   "outputs": [
    {
     "name": "stdout",
     "output_type": "stream",
     "text": [
      "['gt_0.png', 'gt_1.png', 'gt_2.png', 'gt_3.png', 'gt_4.png', 'gt_5.png', 'gt_6.png', 'gt_7.png', 'gt_8.png', 'gt_9.png', 'gt_10.png', 'gt_11.png', 'gt_12.png', 'gt_13.png', 'gt_14.png', 'gt_15.png', 'gt_16.png', 'gt_17.png', 'gt_18.png', 'gt_19.png', 'gt_20.png', 'gt_21.png', 'gt_22.png', 'gt_23.png', 'gt_24.png', 'gt_25.png', 'gt_26.png', 'gt_27.png', 'gt_28.png', 'gt_29.png', 'gt_30.png', 'gt_31.png', 'gt_32.png', 'gt_33.png', 'gt_34.png', 'gt_35.png', 'gt_36.png', 'gt_37.png', 'gt_38.png', 'gt_39.png', 'gt_40.png', 'gt_41.png', 'gt_42.png', 'gt_43.png', 'gt_44.png', 'gt_45.png', 'gt_46.png', 'gt_47.png', 'gt_48.png', 'gt_49.png', 'gt_50.png', 'gt_51.png', 'gt_52.png', 'gt_53.png', 'gt_54.png', 'gt_55.png', 'gt_56.png', 'gt_57.png', 'gt_58.png', 'gt_59.png', 'gt_60.png', 'gt_61.png', 'gt_62.png', 'gt_63.png', 'gt_64.png', 'gt_65.png', 'gt_66.png', 'gt_67.png', 'gt_68.png', 'gt_69.png', 'gt_70.png', 'gt_71.png', 'gt_72.png', 'gt_73.png', 'gt_74.png', 'gt_75.png', 'gt_76.png', 'gt_77.png', 'gt_78.png', 'gt_79.png', 'gt_80.png', 'gt_81.png', 'gt_82.png', 'gt_83.png', 'gt_84.png', 'gt_85.png', 'gt_86.png', 'gt_87.png', 'gt_88.png', 'gt_89.png', 'gt_90.png', 'gt_91.png', 'gt_92.png', 'gt_93.png', 'gt_94.png', 'gt_95.png', 'gt_96.png', 'gt_97.png', 'gt_98.png', 'gt_99.png', 'gt_100.png', 'gt_101.png', 'gt_102.png', 'gt_103.png', 'gt_104.png', 'gt_105.png', 'gt_106.png', 'gt_107.png', 'gt_108.png', 'gt_109.png', 'gt_110.png', 'gt_111.png', 'gt_112.png', 'gt_113.png', 'gt_114.png', 'gt_115.png', 'gt_116.png', 'gt_117.png', 'gt_118.png', 'gt_119.png', 'gt_120.png', 'gt_121.png', 'gt_122.png', 'gt_123.png', 'gt_124.png', 'gt_125.png', 'gt_126.png', 'gt_127.png']\n"
     ]
    }
   ],
   "source": [
    "# Specify the directory path\n",
    "directory_path = '/home/jakobtroidl/Desktop/neural-volumes/logs/hemibrain-volume-20-octaves/results_iteration_13_best_run/15620_16685_20862/gt/'\n",
    "\n",
    "# List all files in the directory\n",
    "file_list = os.listdir(directory_path)\n",
    "\n",
    "dir = os.path.dirname(os.path.dirname(directory_path))\n",
    "\n",
    "# Sort the list of files\n",
    "file_list = sorted(file_list, key=natural_sort_key)\n",
    "\n",
    "print(file_list)\n",
    "\n",
    "images = []\n",
    "\n",
    "# Print the list of files\n",
    "for file in file_list:\n",
    "    # Open the image using Pillow\n",
    "    image = Image.open(directory_path + file)\n",
    "    array = np.array(image)\n",
    "    images.append(array)\n",
    "\n",
    "# Convert the list of images to a 3D array\n",
    "images = np.array(images)\n"
   ]
  },
  {
   "cell_type": "code",
   "execution_count": 20,
   "metadata": {},
   "outputs": [
    {
     "name": "stdout",
     "output_type": "stream",
     "text": [
      "(128, 128, 128)\n",
      "float32\n"
     ]
    }
   ],
   "source": [
    "# convert to float\n",
    "images = images.astype(np.float32)\n",
    "# normalize to the range 0-1\n",
    "images /= 255.0\n",
    "\n",
    "print(images.shape)\n",
    "print(images.dtype)\n",
    "\n"
   ]
  },
  {
   "cell_type": "code",
   "execution_count": 21,
   "metadata": {},
   "outputs": [
    {
     "name": "stdout",
     "output_type": "stream",
     "text": [
      "/home/jakobtroidl/Desktop/neural-volumes/logs/hemibrain-volume-20-octaves/results_iteration_13_best_run/15620_16685_20862/15620_16685_20862-gt.npy\n"
     ]
    }
   ],
   "source": [
    "path = os.path.join(dir, '15620_16685_20862-gt.npy')\n",
    "print(path)\n",
    "\n",
    "np.save(path, images)"
   ]
  }
 ],
 "metadata": {
  "kernelspec": {
   "display_name": "venv",
   "language": "python",
   "name": "python3"
  },
  "language_info": {
   "codemirror_mode": {
    "name": "ipython",
    "version": 3
   },
   "file_extension": ".py",
   "mimetype": "text/x-python",
   "name": "python",
   "nbconvert_exporter": "python",
   "pygments_lexer": "ipython3",
   "version": "3.9.18"
  }
 },
 "nbformat": 4,
 "nbformat_minor": 2
}
